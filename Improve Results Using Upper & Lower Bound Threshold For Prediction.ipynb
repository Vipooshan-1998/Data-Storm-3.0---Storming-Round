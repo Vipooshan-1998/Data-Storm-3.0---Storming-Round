{
 "cells": [
  {
   "cell_type": "markdown",
   "id": "802466f0",
   "metadata": {
    "toc": true
   },
   "source": [
    "<h1>Table of Contents<span class=\"tocSkip\"></span></h1>\n",
    "<div class=\"toc\"><ul class=\"toc-item\"></ul></div>"
   ]
  },
  {
   "cell_type": "code",
   "execution_count": 56,
   "id": "f4d16f1e",
   "metadata": {},
   "outputs": [],
   "source": [
    "import pandas as pd\n",
    "import numpy as np"
   ]
  },
  {
   "cell_type": "code",
   "execution_count": 57,
   "id": "fb83266c",
   "metadata": {},
   "outputs": [
    {
     "data": {
      "text/html": [
       "<div>\n",
       "<style scoped>\n",
       "    .dataframe tbody tr th:only-of-type {\n",
       "        vertical-align: middle;\n",
       "    }\n",
       "\n",
       "    .dataframe tbody tr th {\n",
       "        vertical-align: top;\n",
       "    }\n",
       "\n",
       "    .dataframe thead th {\n",
       "        text-align: right;\n",
       "    }\n",
       "</style>\n",
       "<table border=\"1\" class=\"dataframe\">\n",
       "  <thead>\n",
       "    <tr style=\"text-align: right;\">\n",
       "      <th></th>\n",
       "      <th>DateID</th>\n",
       "      <th>CategoryCode</th>\n",
       "      <th>ItemCode</th>\n",
       "      <th>Month</th>\n",
       "      <th>Day</th>\n",
       "      <th>Week</th>\n",
       "      <th>WeeklySales</th>\n",
       "    </tr>\n",
       "  </thead>\n",
       "  <tbody>\n",
       "    <tr>\n",
       "      <th>0</th>\n",
       "      <td>2021-11-01</td>\n",
       "      <td>category_2</td>\n",
       "      <td>117610</td>\n",
       "      <td>11</td>\n",
       "      <td>6</td>\n",
       "      <td>w05</td>\n",
       "      <td>65</td>\n",
       "    </tr>\n",
       "    <tr>\n",
       "      <th>1</th>\n",
       "      <td>2022-01-24</td>\n",
       "      <td>category_1</td>\n",
       "      <td>370195</td>\n",
       "      <td>1</td>\n",
       "      <td>24</td>\n",
       "      <td>w17</td>\n",
       "      <td>37</td>\n",
       "    </tr>\n",
       "    <tr>\n",
       "      <th>2</th>\n",
       "      <td>2021-10-25</td>\n",
       "      <td>category_1</td>\n",
       "      <td>145978</td>\n",
       "      <td>10</td>\n",
       "      <td>30</td>\n",
       "      <td>w04</td>\n",
       "      <td>31</td>\n",
       "    </tr>\n",
       "    <tr>\n",
       "      <th>3</th>\n",
       "      <td>2022-01-24</td>\n",
       "      <td>category_1</td>\n",
       "      <td>1061341</td>\n",
       "      <td>1</td>\n",
       "      <td>24</td>\n",
       "      <td>w17</td>\n",
       "      <td>17</td>\n",
       "    </tr>\n",
       "    <tr>\n",
       "      <th>4</th>\n",
       "      <td>2021-12-06</td>\n",
       "      <td>category_1</td>\n",
       "      <td>1061341</td>\n",
       "      <td>12</td>\n",
       "      <td>7</td>\n",
       "      <td>w10</td>\n",
       "      <td>40</td>\n",
       "    </tr>\n",
       "    <tr>\n",
       "      <th>...</th>\n",
       "      <td>...</td>\n",
       "      <td>...</td>\n",
       "      <td>...</td>\n",
       "      <td>...</td>\n",
       "      <td>...</td>\n",
       "      <td>...</td>\n",
       "      <td>...</td>\n",
       "    </tr>\n",
       "    <tr>\n",
       "      <th>1694</th>\n",
       "      <td>2021-10-18</td>\n",
       "      <td>category_1</td>\n",
       "      <td>1081339</td>\n",
       "      <td>10</td>\n",
       "      <td>24</td>\n",
       "      <td>w03</td>\n",
       "      <td>3</td>\n",
       "    </tr>\n",
       "    <tr>\n",
       "      <th>1695</th>\n",
       "      <td>2021-10-04</td>\n",
       "      <td>category_1</td>\n",
       "      <td>371104</td>\n",
       "      <td>10</td>\n",
       "      <td>7</td>\n",
       "      <td>w01</td>\n",
       "      <td>6</td>\n",
       "    </tr>\n",
       "    <tr>\n",
       "      <th>1696</th>\n",
       "      <td>2021-11-15</td>\n",
       "      <td>category_1</td>\n",
       "      <td>37510</td>\n",
       "      <td>11</td>\n",
       "      <td>19</td>\n",
       "      <td>w07</td>\n",
       "      <td>3</td>\n",
       "    </tr>\n",
       "    <tr>\n",
       "      <th>1697</th>\n",
       "      <td>2021-10-18</td>\n",
       "      <td>category_2</td>\n",
       "      <td>57058</td>\n",
       "      <td>10</td>\n",
       "      <td>18</td>\n",
       "      <td>w03</td>\n",
       "      <td>4</td>\n",
       "    </tr>\n",
       "    <tr>\n",
       "      <th>1698</th>\n",
       "      <td>2021-10-18</td>\n",
       "      <td>category_1</td>\n",
       "      <td>1068883</td>\n",
       "      <td>10</td>\n",
       "      <td>18</td>\n",
       "      <td>w03</td>\n",
       "      <td>1</td>\n",
       "    </tr>\n",
       "  </tbody>\n",
       "</table>\n",
       "<p>1699 rows × 7 columns</p>\n",
       "</div>"
      ],
      "text/plain": [
       "          DateID CategoryCode  ItemCode  Month  Day Week  WeeklySales\n",
       "0     2021-11-01   category_2    117610     11    6  w05           65\n",
       "1     2022-01-24   category_1    370195      1   24  w17           37\n",
       "2     2021-10-25   category_1    145978     10   30  w04           31\n",
       "3     2022-01-24   category_1   1061341      1   24  w17           17\n",
       "4     2021-12-06   category_1   1061341     12    7  w10           40\n",
       "...          ...          ...       ...    ...  ...  ...          ...\n",
       "1694  2021-10-18   category_1   1081339     10   24  w03            3\n",
       "1695  2021-10-04   category_1    371104     10    7  w01            6\n",
       "1696  2021-11-15   category_1     37510     11   19  w07            3\n",
       "1697  2021-10-18   category_2     57058     10   18  w03            4\n",
       "1698  2021-10-18   category_1   1068883     10   18  w03            1\n",
       "\n",
       "[1699 rows x 7 columns]"
      ]
     },
     "execution_count": 57,
     "metadata": {},
     "output_type": "execute_result"
    }
   ],
   "source": [
    "train_for_test = pd.read_csv('train_for_test.csv')\n",
    "train_for_test"
   ]
  },
  {
   "cell_type": "code",
   "execution_count": 58,
   "id": "c3178ee5",
   "metadata": {},
   "outputs": [
    {
     "data": {
      "text/html": [
       "<div>\n",
       "<style scoped>\n",
       "    .dataframe tbody tr th:only-of-type {\n",
       "        vertical-align: middle;\n",
       "    }\n",
       "\n",
       "    .dataframe tbody tr th {\n",
       "        vertical-align: top;\n",
       "    }\n",
       "\n",
       "    .dataframe thead th {\n",
       "        text-align: right;\n",
       "    }\n",
       "</style>\n",
       "<table border=\"1\" class=\"dataframe\">\n",
       "  <thead>\n",
       "    <tr style=\"text-align: right;\">\n",
       "      <th></th>\n",
       "      <th>ID</th>\n",
       "      <th>WeeklySales</th>\n",
       "    </tr>\n",
       "  </thead>\n",
       "  <tbody>\n",
       "    <tr>\n",
       "      <th>0</th>\n",
       "      <td>category_1_43738_w4</td>\n",
       "      <td>22</td>\n",
       "    </tr>\n",
       "    <tr>\n",
       "      <th>1</th>\n",
       "      <td>category_2_1006090_w1</td>\n",
       "      <td>34</td>\n",
       "    </tr>\n",
       "    <tr>\n",
       "      <th>2</th>\n",
       "      <td>category_2_1076929_w4</td>\n",
       "      <td>80</td>\n",
       "    </tr>\n",
       "    <tr>\n",
       "      <th>3</th>\n",
       "      <td>category_1_1081321_w3</td>\n",
       "      <td>6</td>\n",
       "    </tr>\n",
       "    <tr>\n",
       "      <th>4</th>\n",
       "      <td>category_2_216151_w4</td>\n",
       "      <td>14</td>\n",
       "    </tr>\n",
       "    <tr>\n",
       "      <th>...</th>\n",
       "      <td>...</td>\n",
       "      <td>...</td>\n",
       "    </tr>\n",
       "    <tr>\n",
       "      <th>372</th>\n",
       "      <td>category_2_1101571_w1</td>\n",
       "      <td>64</td>\n",
       "    </tr>\n",
       "    <tr>\n",
       "      <th>373</th>\n",
       "      <td>category_2_1090258_w4</td>\n",
       "      <td>25</td>\n",
       "    </tr>\n",
       "    <tr>\n",
       "      <th>374</th>\n",
       "      <td>category_2_906595_w1</td>\n",
       "      <td>11</td>\n",
       "    </tr>\n",
       "    <tr>\n",
       "      <th>375</th>\n",
       "      <td>category_2_32245_w1</td>\n",
       "      <td>87</td>\n",
       "    </tr>\n",
       "    <tr>\n",
       "      <th>376</th>\n",
       "      <td>category_2_1006090_w2</td>\n",
       "      <td>28</td>\n",
       "    </tr>\n",
       "  </tbody>\n",
       "</table>\n",
       "<p>377 rows × 2 columns</p>\n",
       "</div>"
      ],
      "text/plain": [
       "                        ID  WeeklySales\n",
       "0      category_1_43738_w4           22\n",
       "1    category_2_1006090_w1           34\n",
       "2    category_2_1076929_w4           80\n",
       "3    category_1_1081321_w3            6\n",
       "4     category_2_216151_w4           14\n",
       "..                     ...          ...\n",
       "372  category_2_1101571_w1           64\n",
       "373  category_2_1090258_w4           25\n",
       "374   category_2_906595_w1           11\n",
       "375    category_2_32245_w1           87\n",
       "376  category_2_1006090_w2           28\n",
       "\n",
       "[377 rows x 2 columns]"
      ]
     },
     "execution_count": 58,
     "metadata": {},
     "output_type": "execute_result"
    }
   ],
   "source": [
    "sub = pd.read_csv('lstm_submission.csv')\n",
    "sub"
   ]
  },
  {
   "cell_type": "code",
   "execution_count": 59,
   "id": "5653b611",
   "metadata": {},
   "outputs": [],
   "source": [
    "# s = sub['ID'].str.split('_')\n",
    "# s"
   ]
  },
  {
   "cell_type": "code",
   "execution_count": 60,
   "id": "6e48ec4f",
   "metadata": {},
   "outputs": [],
   "source": [
    "item = []\n",
    "for s in sub['ID'].str.split('_'):\n",
    "    item.append(int(s[2]))"
   ]
  },
  {
   "cell_type": "code",
   "execution_count": 61,
   "id": "6b16ef69",
   "metadata": {},
   "outputs": [],
   "source": [
    "sub['ItemCode'] = item"
   ]
  },
  {
   "cell_type": "code",
   "execution_count": 62,
   "id": "183a5fae",
   "metadata": {},
   "outputs": [],
   "source": [
    "# train_for_test['ID'] = train_for_test['CategoryCode'] + '_' + train_for_test['ItemCode'].astype(str) + '_' + train_for_test['Week']"
   ]
  },
  {
   "cell_type": "code",
   "execution_count": 63,
   "id": "0623508e",
   "metadata": {},
   "outputs": [
    {
     "data": {
      "text/html": [
       "<div>\n",
       "<style scoped>\n",
       "    .dataframe tbody tr th:only-of-type {\n",
       "        vertical-align: middle;\n",
       "    }\n",
       "\n",
       "    .dataframe tbody tr th {\n",
       "        vertical-align: top;\n",
       "    }\n",
       "\n",
       "    .dataframe thead th {\n",
       "        text-align: right;\n",
       "    }\n",
       "</style>\n",
       "<table border=\"1\" class=\"dataframe\">\n",
       "  <thead>\n",
       "    <tr style=\"text-align: right;\">\n",
       "      <th></th>\n",
       "      <th>DateID</th>\n",
       "      <th>CategoryCode</th>\n",
       "      <th>ItemCode</th>\n",
       "      <th>Month</th>\n",
       "      <th>Day</th>\n",
       "      <th>Week</th>\n",
       "      <th>WeeklySales</th>\n",
       "    </tr>\n",
       "  </thead>\n",
       "  <tbody>\n",
       "    <tr>\n",
       "      <th>0</th>\n",
       "      <td>2021-11-01</td>\n",
       "      <td>category_2</td>\n",
       "      <td>117610</td>\n",
       "      <td>11</td>\n",
       "      <td>6</td>\n",
       "      <td>w05</td>\n",
       "      <td>65</td>\n",
       "    </tr>\n",
       "    <tr>\n",
       "      <th>1</th>\n",
       "      <td>2022-01-24</td>\n",
       "      <td>category_1</td>\n",
       "      <td>370195</td>\n",
       "      <td>1</td>\n",
       "      <td>24</td>\n",
       "      <td>w17</td>\n",
       "      <td>37</td>\n",
       "    </tr>\n",
       "    <tr>\n",
       "      <th>2</th>\n",
       "      <td>2021-10-25</td>\n",
       "      <td>category_1</td>\n",
       "      <td>145978</td>\n",
       "      <td>10</td>\n",
       "      <td>30</td>\n",
       "      <td>w04</td>\n",
       "      <td>31</td>\n",
       "    </tr>\n",
       "    <tr>\n",
       "      <th>3</th>\n",
       "      <td>2022-01-24</td>\n",
       "      <td>category_1</td>\n",
       "      <td>1061341</td>\n",
       "      <td>1</td>\n",
       "      <td>24</td>\n",
       "      <td>w17</td>\n",
       "      <td>17</td>\n",
       "    </tr>\n",
       "    <tr>\n",
       "      <th>4</th>\n",
       "      <td>2021-12-06</td>\n",
       "      <td>category_1</td>\n",
       "      <td>1061341</td>\n",
       "      <td>12</td>\n",
       "      <td>7</td>\n",
       "      <td>w10</td>\n",
       "      <td>40</td>\n",
       "    </tr>\n",
       "  </tbody>\n",
       "</table>\n",
       "</div>"
      ],
      "text/plain": [
       "       DateID CategoryCode  ItemCode  Month  Day Week  WeeklySales\n",
       "0  2021-11-01   category_2    117610     11    6  w05           65\n",
       "1  2022-01-24   category_1    370195      1   24  w17           37\n",
       "2  2021-10-25   category_1    145978     10   30  w04           31\n",
       "3  2022-01-24   category_1   1061341      1   24  w17           17\n",
       "4  2021-12-06   category_1   1061341     12    7  w10           40"
      ]
     },
     "execution_count": 63,
     "metadata": {},
     "output_type": "execute_result"
    }
   ],
   "source": [
    "train_for_test.head()"
   ]
  },
  {
   "cell_type": "code",
   "execution_count": 64,
   "id": "c868cf2f",
   "metadata": {},
   "outputs": [],
   "source": [
    "# train_for_test[train_for_test['ItemCode'] == 117610]['WeeklySales'].values.max()"
   ]
  },
  {
   "cell_type": "code",
   "execution_count": 65,
   "id": "f090d0ef",
   "metadata": {},
   "outputs": [
    {
     "data": {
      "text/plain": [
       "119     9\n",
       "131     9\n",
       "144    17\n",
       "211    10\n",
       "Name: WeeklySales, dtype: int64"
      ]
     },
     "execution_count": 65,
     "metadata": {},
     "output_type": "execute_result"
    }
   ],
   "source": [
    "sub[sub['ItemCode'] == 117610]['WeeklySales']"
   ]
  },
  {
   "cell_type": "code",
   "execution_count": 66,
   "id": "66bf6345",
   "metadata": {},
   "outputs": [
    {
     "name": "stderr",
     "output_type": "stream",
     "text": [
      "C:\\Users\\Vipooshan\\anaconda3\\envs\\tf\\lib\\site-packages\\pandas\\core\\frame.py:3607: SettingWithCopyWarning: \n",
      "A value is trying to be set on a copy of a slice from a DataFrame.\n",
      "Try using .loc[row_indexer,col_indexer] = value instead\n",
      "\n",
      "See the caveats in the documentation: https://pandas.pydata.org/pandas-docs/stable/user_guide/indexing.html#returning-a-view-versus-a-copy\n",
      "  self._set_item(key, value)\n"
     ]
    }
   ],
   "source": [
    "sub[sub['ItemCode'] == 117610]['WeeklySales'] = [2,3,4,5]"
   ]
  },
  {
   "cell_type": "code",
   "execution_count": 67,
   "id": "ba8bf50f",
   "metadata": {},
   "outputs": [
    {
     "data": {
      "text/plain": [
       "array([35, 18, 79, 21, 44,  2,  6,  5,  6,  7, 92, 38, 72,  4,  6, 19,  8,\n",
       "        1], dtype=int64)"
      ]
     },
     "execution_count": 67,
     "metadata": {},
     "output_type": "execute_result"
    }
   ],
   "source": [
    "train_for_test[train_for_test['ItemCode'] == 1090258]['WeeklySales'].values"
   ]
  },
  {
   "cell_type": "code",
   "execution_count": 68,
   "id": "c8671c14",
   "metadata": {},
   "outputs": [
    {
     "data": {
      "text/plain": [
       "0.10     3.40\n",
       "0.50    13.00\n",
       "0.75    37.25\n",
       "0.90    74.10\n",
       "Name: WeeklySales, dtype: float64"
      ]
     },
     "execution_count": 68,
     "metadata": {},
     "output_type": "execute_result"
    }
   ],
   "source": [
    "train_for_test[train_for_test['ItemCode'] == 1090258]['WeeklySales'].quantile([0.1,0.5,0.75, 0.9])"
   ]
  },
  {
   "cell_type": "code",
   "execution_count": 69,
   "id": "68cd8f9e",
   "metadata": {},
   "outputs": [
    {
     "data": {
      "text/plain": [
       "92"
      ]
     },
     "execution_count": 69,
     "metadata": {},
     "output_type": "execute_result"
    }
   ],
   "source": [
    "train_for_test[train_for_test['ItemCode'] == 1090258]['WeeklySales'].max()"
   ]
  },
  {
   "cell_type": "code",
   "execution_count": 70,
   "id": "6ee4ae60",
   "metadata": {},
   "outputs": [
    {
     "data": {
      "text/plain": [
       "0.97    85.37\n",
       "Name: WeeklySales, dtype: float64"
      ]
     },
     "execution_count": 70,
     "metadata": {},
     "output_type": "execute_result"
    }
   ],
   "source": [
    "train_for_test[train_for_test['ItemCode'] == 1090258]['WeeklySales'].quantile([0.97])"
   ]
  },
  {
   "cell_type": "code",
   "execution_count": 71,
   "id": "3540d74f",
   "metadata": {},
   "outputs": [
    {
     "data": {
      "text/plain": [
       "1"
      ]
     },
     "execution_count": 71,
     "metadata": {},
     "output_type": "execute_result"
    }
   ],
   "source": [
    "train_for_test[train_for_test['ItemCode'] == 1090258]['WeeklySales'].min()"
   ]
  },
  {
   "cell_type": "code",
   "execution_count": 79,
   "id": "9e86ca1c",
   "metadata": {},
   "outputs": [
    {
     "data": {
      "text/plain": [
       "0.1    3.4\n",
       "Name: WeeklySales, dtype: float64"
      ]
     },
     "execution_count": 79,
     "metadata": {},
     "output_type": "execute_result"
    }
   ],
   "source": [
    "train_for_test[train_for_test['ItemCode'] == 1090258]['WeeklySales'].quantile([0.1])"
   ]
  },
  {
   "cell_type": "code",
   "execution_count": 73,
   "id": "2cf8062d",
   "metadata": {},
   "outputs": [
    {
     "data": {
      "text/plain": [
       "119     9\n",
       "131     9\n",
       "144    17\n",
       "211    10\n",
       "Name: WeeklySales, dtype: int64"
      ]
     },
     "execution_count": 73,
     "metadata": {},
     "output_type": "execute_result"
    }
   ],
   "source": [
    "sub[sub['ItemCode'] == 117610]['WeeklySales']"
   ]
  },
  {
   "cell_type": "code",
   "execution_count": 74,
   "id": "3214acf2",
   "metadata": {},
   "outputs": [
    {
     "data": {
      "text/plain": [
       "array([119, 131, 144, 211], dtype=int64)"
      ]
     },
     "execution_count": 74,
     "metadata": {},
     "output_type": "execute_result"
    }
   ],
   "source": [
    "sub[sub['ItemCode'] == 117610]['WeeklySales'].index.values"
   ]
  },
  {
   "cell_type": "code",
   "execution_count": 75,
   "id": "8080f01a",
   "metadata": {},
   "outputs": [
    {
     "data": {
      "text/plain": [
       "119     9\n",
       "131     9\n",
       "144    17\n",
       "211    10\n",
       "Name: WeeklySales, dtype: int64"
      ]
     },
     "execution_count": 75,
     "metadata": {},
     "output_type": "execute_result"
    }
   ],
   "source": [
    "sub.loc[sub[sub['ItemCode'] == 117610]['WeeklySales'].index, 'WeeklySales']"
   ]
  },
  {
   "cell_type": "code",
   "execution_count": 76,
   "id": "328cd4a9",
   "metadata": {},
   "outputs": [
    {
     "data": {
      "text/plain": [
       "array([9, 9, 3, 3], dtype=int64)"
      ]
     },
     "execution_count": 76,
     "metadata": {},
     "output_type": "execute_result"
    }
   ],
   "source": [
    "np.where(sub[sub['ItemCode'] == 117610]['WeeklySales']>9, 3, sub[sub['ItemCode'] == 117610]['WeeklySales'])"
   ]
  },
  {
   "cell_type": "code",
   "execution_count": 83,
   "id": "18ea3375",
   "metadata": {},
   "outputs": [],
   "source": [
    "for i in sub['ItemCode'].values:\n",
    "    item_max_sale = train_for_test[train_for_test['ItemCode'] == i]['WeeklySales'].quantile([0.97])\n",
    "    item_max_sale = int(item_max_sale)\n",
    "    indexes = sub[sub['ItemCode'] == i]['WeeklySales'].index.values\n",
    "    \n",
    "    change = np.where(sub[sub['ItemCode'] == i]['WeeklySales'] > item_max_sale, item_max_sale, sub[sub['ItemCode'] == i]['WeeklySales'])\n",
    "#     print('before', sub[sub['ItemCode'] == i]['WeeklySales'][indexes])\n",
    "    sub.loc[indexes, 'WeeklySales'] = change\n",
    "#     print('after', sub[sub['ItemCode'] == i]['WeeklySales'][indexes])"
   ]
  },
  {
   "cell_type": "code",
   "execution_count": 84,
   "id": "e0b4decf",
   "metadata": {},
   "outputs": [],
   "source": [
    "for i in sub['ItemCode'].values:\n",
    "    item_min_sale = train_for_test[train_for_test['ItemCode'] == i]['WeeklySales'].quantile([0.1])\n",
    "    item_min_sale = int(item_min_sale)\n",
    "    indexes = sub[sub['ItemCode'] == i]['WeeklySales'].index.values\n",
    "    \n",
    "    change = np.where(sub[sub['ItemCode'] == i]['WeeklySales'] < item_min_sale, item_min_sale, sub[sub['ItemCode'] == i]['WeeklySales'])\n",
    "    \n",
    "    sub.loc[indexes, 'WeeklySales'] = change"
   ]
  },
  {
   "cell_type": "code",
   "execution_count": null,
   "id": "24465a61",
   "metadata": {},
   "outputs": [],
   "source": []
  },
  {
   "cell_type": "code",
   "execution_count": 85,
   "id": "56ca5deb",
   "metadata": {},
   "outputs": [
    {
     "data": {
      "text/html": [
       "<div>\n",
       "<style scoped>\n",
       "    .dataframe tbody tr th:only-of-type {\n",
       "        vertical-align: middle;\n",
       "    }\n",
       "\n",
       "    .dataframe tbody tr th {\n",
       "        vertical-align: top;\n",
       "    }\n",
       "\n",
       "    .dataframe thead th {\n",
       "        text-align: right;\n",
       "    }\n",
       "</style>\n",
       "<table border=\"1\" class=\"dataframe\">\n",
       "  <thead>\n",
       "    <tr style=\"text-align: right;\">\n",
       "      <th></th>\n",
       "      <th>ID</th>\n",
       "      <th>WeeklySales</th>\n",
       "      <th>ItemCode</th>\n",
       "    </tr>\n",
       "  </thead>\n",
       "  <tbody>\n",
       "    <tr>\n",
       "      <th>372</th>\n",
       "      <td>category_2_1101571_w1</td>\n",
       "      <td>64</td>\n",
       "      <td>1101571</td>\n",
       "    </tr>\n",
       "    <tr>\n",
       "      <th>373</th>\n",
       "      <td>category_2_1090258_w4</td>\n",
       "      <td>25</td>\n",
       "      <td>1090258</td>\n",
       "    </tr>\n",
       "    <tr>\n",
       "      <th>374</th>\n",
       "      <td>category_2_906595_w1</td>\n",
       "      <td>11</td>\n",
       "      <td>906595</td>\n",
       "    </tr>\n",
       "    <tr>\n",
       "      <th>375</th>\n",
       "      <td>category_2_32245_w1</td>\n",
       "      <td>51</td>\n",
       "      <td>32245</td>\n",
       "    </tr>\n",
       "    <tr>\n",
       "      <th>376</th>\n",
       "      <td>category_2_1006090_w2</td>\n",
       "      <td>28</td>\n",
       "      <td>1006090</td>\n",
       "    </tr>\n",
       "  </tbody>\n",
       "</table>\n",
       "</div>"
      ],
      "text/plain": [
       "                        ID  WeeklySales  ItemCode\n",
       "372  category_2_1101571_w1           64   1101571\n",
       "373  category_2_1090258_w4           25   1090258\n",
       "374   category_2_906595_w1           11    906595\n",
       "375    category_2_32245_w1           51     32245\n",
       "376  category_2_1006090_w2           28   1006090"
      ]
     },
     "execution_count": 85,
     "metadata": {},
     "output_type": "execute_result"
    }
   ],
   "source": [
    "sub.tail()"
   ]
  },
  {
   "cell_type": "code",
   "execution_count": 86,
   "id": "e72b4165",
   "metadata": {},
   "outputs": [
    {
     "data": {
      "text/html": [
       "<div>\n",
       "<style scoped>\n",
       "    .dataframe tbody tr th:only-of-type {\n",
       "        vertical-align: middle;\n",
       "    }\n",
       "\n",
       "    .dataframe tbody tr th {\n",
       "        vertical-align: top;\n",
       "    }\n",
       "\n",
       "    .dataframe thead th {\n",
       "        text-align: right;\n",
       "    }\n",
       "</style>\n",
       "<table border=\"1\" class=\"dataframe\">\n",
       "  <thead>\n",
       "    <tr style=\"text-align: right;\">\n",
       "      <th></th>\n",
       "      <th>ID</th>\n",
       "      <th>WeeklySales</th>\n",
       "      <th>ItemCode</th>\n",
       "    </tr>\n",
       "  </thead>\n",
       "  <tbody>\n",
       "    <tr>\n",
       "      <th>246</th>\n",
       "      <td>category_1_1068883_w4</td>\n",
       "      <td>1</td>\n",
       "      <td>1068883</td>\n",
       "    </tr>\n",
       "    <tr>\n",
       "      <th>337</th>\n",
       "      <td>category_2_1076929_w3</td>\n",
       "      <td>2</td>\n",
       "      <td>1076929</td>\n",
       "    </tr>\n",
       "    <tr>\n",
       "      <th>172</th>\n",
       "      <td>category_2_1101553_w2</td>\n",
       "      <td>3</td>\n",
       "      <td>1101553</td>\n",
       "    </tr>\n",
       "    <tr>\n",
       "      <th>31</th>\n",
       "      <td>category_2_1071115_w3</td>\n",
       "      <td>4</td>\n",
       "      <td>1071115</td>\n",
       "    </tr>\n",
       "    <tr>\n",
       "      <th>98</th>\n",
       "      <td>category_2_1070818_w4</td>\n",
       "      <td>4</td>\n",
       "      <td>1070818</td>\n",
       "    </tr>\n",
       "    <tr>\n",
       "      <th>...</th>\n",
       "      <td>...</td>\n",
       "      <td>...</td>\n",
       "      <td>...</td>\n",
       "    </tr>\n",
       "    <tr>\n",
       "      <th>288</th>\n",
       "      <td>category_4_123307_w3</td>\n",
       "      <td>574</td>\n",
       "      <td>123307</td>\n",
       "    </tr>\n",
       "    <tr>\n",
       "      <th>107</th>\n",
       "      <td>category_3_169504_w3</td>\n",
       "      <td>657</td>\n",
       "      <td>169504</td>\n",
       "    </tr>\n",
       "    <tr>\n",
       "      <th>161</th>\n",
       "      <td>category_4_123307_w4</td>\n",
       "      <td>659</td>\n",
       "      <td>123307</td>\n",
       "    </tr>\n",
       "    <tr>\n",
       "      <th>12</th>\n",
       "      <td>category_4_123307_w1</td>\n",
       "      <td>706</td>\n",
       "      <td>123307</td>\n",
       "    </tr>\n",
       "    <tr>\n",
       "      <th>284</th>\n",
       "      <td>category_3_169504_w1</td>\n",
       "      <td>793</td>\n",
       "      <td>169504</td>\n",
       "    </tr>\n",
       "  </tbody>\n",
       "</table>\n",
       "<p>377 rows × 3 columns</p>\n",
       "</div>"
      ],
      "text/plain": [
       "                        ID  WeeklySales  ItemCode\n",
       "246  category_1_1068883_w4            1   1068883\n",
       "337  category_2_1076929_w3            2   1076929\n",
       "172  category_2_1101553_w2            3   1101553\n",
       "31   category_2_1071115_w3            4   1071115\n",
       "98   category_2_1070818_w4            4   1070818\n",
       "..                     ...          ...       ...\n",
       "288   category_4_123307_w3          574    123307\n",
       "107   category_3_169504_w3          657    169504\n",
       "161   category_4_123307_w4          659    123307\n",
       "12    category_4_123307_w1          706    123307\n",
       "284   category_3_169504_w1          793    169504\n",
       "\n",
       "[377 rows x 3 columns]"
      ]
     },
     "execution_count": 86,
     "metadata": {},
     "output_type": "execute_result"
    }
   ],
   "source": [
    "sub.sort_values(by='WeeklySales', ascending=True)"
   ]
  },
  {
   "cell_type": "code",
   "execution_count": 87,
   "id": "6d5f6104",
   "metadata": {},
   "outputs": [
    {
     "data": {
      "text/plain": [
       "2      60\n",
       "20     24\n",
       "155    12\n",
       "337     2\n",
       "Name: WeeklySales, dtype: int64"
      ]
     },
     "execution_count": 87,
     "metadata": {},
     "output_type": "execute_result"
    }
   ],
   "source": [
    "sub[sub['ItemCode'] == 1076929]['WeeklySales']"
   ]
  },
  {
   "cell_type": "code",
   "execution_count": 88,
   "id": "0aa7fe18",
   "metadata": {},
   "outputs": [
    {
     "data": {
      "text/plain": [
       "2      60\n",
       "20     24\n",
       "155    12\n",
       "337     2\n",
       "Name: WeeklySales, dtype: int64"
      ]
     },
     "execution_count": 88,
     "metadata": {},
     "output_type": "execute_result"
    }
   ],
   "source": [
    "sub[sub['ItemCode'] == 1076929]['WeeklySales']"
   ]
  },
  {
   "cell_type": "code",
   "execution_count": 89,
   "id": "215c33d7",
   "metadata": {},
   "outputs": [
    {
     "data": {
      "text/plain": [
       "1"
      ]
     },
     "execution_count": 89,
     "metadata": {},
     "output_type": "execute_result"
    }
   ],
   "source": [
    "train_for_test[train_for_test['ItemCode'] == 1076929]['WeeklySales'].values.min()"
   ]
  },
  {
   "cell_type": "code",
   "execution_count": 90,
   "id": "55d2c788",
   "metadata": {},
   "outputs": [],
   "source": [
    "sub.drop(columns='ItemCode', inplace=True)"
   ]
  },
  {
   "cell_type": "code",
   "execution_count": 92,
   "id": "bf8d6151",
   "metadata": {},
   "outputs": [],
   "source": [
    "sub.to_csv('modified_96_with_bound_with_quartile.csv', index=False)"
   ]
  },
  {
   "cell_type": "code",
   "execution_count": null,
   "id": "182d5fc4",
   "metadata": {},
   "outputs": [],
   "source": []
  }
 ],
 "metadata": {
  "kernelspec": {
   "display_name": "Python 3",
   "language": "python",
   "name": "python3"
  },
  "language_info": {
   "codemirror_mode": {
    "name": "ipython",
    "version": 3
   },
   "file_extension": ".py",
   "mimetype": "text/x-python",
   "name": "python",
   "nbconvert_exporter": "python",
   "pygments_lexer": "ipython3",
   "version": "3.7.10"
  },
  "toc": {
   "base_numbering": 1,
   "nav_menu": {},
   "number_sections": true,
   "sideBar": true,
   "skip_h1_title": false,
   "title_cell": "Table of Contents",
   "title_sidebar": "Contents",
   "toc_cell": true,
   "toc_position": {},
   "toc_section_display": true,
   "toc_window_display": false
  }
 },
 "nbformat": 4,
 "nbformat_minor": 5
}
